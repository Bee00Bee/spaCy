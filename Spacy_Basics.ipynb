{
 "cells": [
  {
   "cell_type": "markdown",
   "id": "f7b0276d",
   "metadata": {},
   "source": [
    "# spaCy\n",
    "\n",
    "\n",
    "spaCy is a well-known library in *natural language processing* domain in Python. In this notebook I start with the fundamentals that are used in spaCy."
   ]
  },
  {
   "cell_type": "markdown",
   "id": "41167848",
   "metadata": {},
   "source": [
    "To create a blank English pipeline, I can simply call it by the \"spacy.blank\" method as follows: "
   ]
  },
  {
   "cell_type": "code",
   "execution_count": null,
   "id": "cad78fc6",
   "metadata": {},
   "outputs": [],
   "source": [
    "import spacy\n",
    "\n",
    "nlp = spacy.blank('en')"
   ]
  },
  {
   "cell_type": "markdown",
   "id": "00dc405e",
   "metadata": {},
   "source": [
    "### Tokenizing"
   ]
  },
  {
   "cell_type": "code",
   "execution_count": 4,
   "id": "61f63b1e",
   "metadata": {},
   "outputs": [
    {
     "name": "stdout",
     "output_type": "stream",
     "text": [
      "Hello\n",
      "world\n",
      "2022\n",
      "!\n",
      ".\n"
     ]
    }
   ],
   "source": [
    "doc = nlp(\"Hello world 2022!.\")\n",
    "\n",
    "for token in doc:\n",
    "    print(token.text)"
   ]
  },
  {
   "cell_type": "markdown",
   "id": "adf6277d",
   "metadata": {},
   "source": [
    "To get more information about the tokens we can use the *is_alpha*, *is_punct*, and *like_num* to identify the token type:"
   ]
  },
  {
   "cell_type": "code",
   "execution_count": 11,
   "id": "44f2d6d6",
   "metadata": {},
   "outputs": [
    {
     "name": "stdout",
     "output_type": "stream",
     "text": [
      "Hello  has charactors\n",
      "world  has charactors\n",
      "2022  is a digit\n",
      "!  is a pucntuations\n",
      ".  is a pucntuations\n"
     ]
    }
   ],
   "source": [
    "for token in doc:\n",
    "    if token.is_alpha == True:\n",
    "        print(token, ' has charactors')\n",
    "    elif token.is_digit == True:\n",
    "        print(token, ' is a digit')\n",
    "    elif token.is_punct == True:\n",
    "        print(token, ' is a pucntuations')"
   ]
  },
  {
   "cell_type": "markdown",
   "id": "0489a622",
   "metadata": {},
   "source": [
    "### Lexical attributes\n"
   ]
  },
  {
   "cell_type": "markdown",
   "id": "7c08c635",
   "metadata": {},
   "source": [
    "Below I want to dig into a text to find the lexical attributes."
   ]
  },
  {
   "cell_type": "code",
   "execution_count": 18,
   "id": "66f3f26a",
   "metadata": {},
   "outputs": [
    {
     "name": "stdout",
     "output_type": "stream",
     "text": [
      "Percentage found: 60\n",
      "Percentage found: 4\n"
     ]
    }
   ],
   "source": [
    "doc = nlp(\" In 1990 more than 60% of people in East Asia were in extreme poverty. Now less than 4% are.\")\n",
    "\n",
    "for token in doc:\n",
    "          if token.like_num:\n",
    "            next_token = doc[token.i+1]\n",
    "            if next_token.text == \"%\":\n",
    "                print(\"Percentage found:\", token.text)\n",
    "          "
   ]
  },
  {
   "cell_type": "markdown",
   "id": "5cb97dd7",
   "metadata": {},
   "source": [
    "### Trained Pipeline"
   ]
  },
  {
   "cell_type": "markdown",
   "id": "e5507e80",
   "metadata": {},
   "source": [
    "The *trained pipeline* components have statistical models which makes predictions in the context. This does speech tags, and named entities. \n",
    "* Part-of-speech tags\n",
    "* Syntactic dependencies\n",
    "* Named entities\n",
    "\n",
    "* Trained on labeled example texts\n",
    "* Can be updated with more examples to fine-tune predicitons\n",
    "\n",
    "spaCy has pre-trained packages such as \"en_core_web_sm\" which has the *binary weights*, *vocabulary*, *meta information*, and *configuration file*. Let's load the package and find out what are the tokens roles in the sentences. "
   ]
  },
  {
   "cell_type": "code",
   "execution_count": 31,
   "id": "66fd2ae4",
   "metadata": {},
   "outputs": [
    {
     "name": "stdout",
     "output_type": "stream",
     "text": [
      "I PRON\n",
      "love VERB\n",
      "hamburger NOUN\n",
      "and CCONJ\n",
      "pizza NOUN\n",
      "and CCONJ\n",
      "I PRON\n",
      "love VERB\n",
      "to PART\n",
      "eat VERB\n",
      "in ADP\n",
      "the DET\n",
      "cozy ADJ\n",
      "restaurants NOUN\n"
     ]
    }
   ],
   "source": [
    "nlp = spacy.load(\"en_core_web_sm\")\n",
    "\n",
    "text = \"I love hamburger and pizza and I love to eat in the cozy restaurants\"\n",
    "\n",
    "doc = nlp(text)\n",
    "\n",
    "for token in doc:\n",
    "    print(token.text, token.pos_)"
   ]
  },
  {
   "cell_type": "markdown",
   "id": "5b03f048",
   "metadata": {},
   "source": [
    "Now let's find out the dependecy and parent labels\n"
   ]
  },
  {
   "cell_type": "code",
   "execution_count": 32,
   "id": "3e9bb8d9",
   "metadata": {},
   "outputs": [
    {
     "name": "stdout",
     "output_type": "stream",
     "text": [
      "I PRON nsubj love\n",
      "love VERB ROOT love\n",
      "hamburger NOUN dobj love\n",
      "and CCONJ cc hamburger\n",
      "pizza NOUN conj hamburger\n",
      "and CCONJ cc love\n",
      "I PRON nsubj love\n",
      "love VERB conj love\n",
      "to PART aux eat\n",
      "eat VERB xcomp love\n",
      "in ADP prep eat\n",
      "the DET det restaurants\n",
      "cozy ADJ amod restaurants\n",
      "restaurants NOUN pobj in\n"
     ]
    }
   ],
   "source": [
    "for token in doc:\n",
    "    print(token.text, token.pos_, token.dep_, token.head.text)"
   ]
  },
  {
   "cell_type": "markdown",
   "id": "1d50390a",
   "metadata": {},
   "source": [
    "above *nsubj* means *nominal subject*, *dobj* means *direct object*, and *det* means *determiner*. Now what about the *Name Entities* (labels)? The labels can be:\n",
    "* Money\n",
    "* GPE\n",
    "* organizaition\n",
    "...\n",
    "\n",
    "in spaCy the trained labeled data is not included in the pipeline package that we load. "
   ]
  },
  {
   "cell_type": "code",
   "execution_count": 36,
   "id": "9a23a1be",
   "metadata": {},
   "outputs": [
    {
     "name": "stdout",
     "output_type": "stream",
     "text": [
      "Apple ORG\n",
      "more than $1 billion MONEY\n",
      "USA GPE\n"
     ]
    }
   ],
   "source": [
    "text = \"Apple is a big company and it has more than $1 billion money in the USA\"\n",
    "\n",
    "doc = nlp(text)\n",
    "\n",
    "for ent in doc.ents:\n",
    "    print(ent.text, ent.label_)"
   ]
  },
  {
   "cell_type": "markdown",
   "id": "44a14dbc",
   "metadata": {},
   "source": [
    "To know what the entities are you can use the *explain* function:"
   ]
  },
  {
   "cell_type": "code",
   "execution_count": 37,
   "id": "d724e9a9",
   "metadata": {},
   "outputs": [
    {
     "data": {
      "text/plain": [
       "'Countries, cities, states'"
      ]
     },
     "execution_count": 37,
     "metadata": {},
     "output_type": "execute_result"
    }
   ],
   "source": [
    "spacy.explain(\"GPE\")"
   ]
  },
  {
   "cell_type": "code",
   "execution_count": 38,
   "id": "84672d0d",
   "metadata": {},
   "outputs": [
    {
     "data": {
      "text/plain": [
       "'Companies, agencies, institutions, etc.'"
      ]
     },
     "execution_count": 38,
     "metadata": {},
     "output_type": "execute_result"
    }
   ],
   "source": [
    "spacy.explain(\"ORG\")"
   ]
  },
  {
   "cell_type": "code",
   "execution_count": 39,
   "id": "922f4f51",
   "metadata": {},
   "outputs": [
    {
     "data": {
      "text/plain": [
       "'Monetary values, including unit'"
      ]
     },
     "execution_count": 39,
     "metadata": {},
     "output_type": "execute_result"
    }
   ],
   "source": [
    "spacy.explain(\"MONEY\")"
   ]
  },
  {
   "cell_type": "code",
   "execution_count": 43,
   "id": "02459188",
   "metadata": {},
   "outputs": [
    {
     "name": "stdout",
     "output_type": "stream",
     "text": [
      "Apple , PROPN , nsubj\n",
      "is , AUX , ROOT\n",
      "a , DET , det\n",
      "big , ADJ , amod\n",
      "company , NOUN , attr\n",
      "and , CCONJ , cc\n",
      "it , PRON , nsubj\n",
      "has , VERB , conj\n",
      "more , ADJ , amod\n",
      "than , SCONJ , quantmod\n",
      "$ , SYM , quantmod\n",
      "1 , NUM , compound\n",
      "billion , NUM , nummod\n",
      "money , NOUN , dobj\n",
      "in , ADP , prep\n",
      "the , DET , det\n",
      "USA , PROPN , pobj\n"
     ]
    }
   ],
   "source": [
    "for token in doc:\n",
    "    token_text = token.text\n",
    "    token_pos = token.pos_\n",
    "    token_dep = token.dep_\n",
    "    \n",
    "    print(token_text,\",\",token_pos,\",\",token_dep)"
   ]
  },
  {
   "cell_type": "markdown",
   "id": "55475f9c",
   "metadata": {},
   "source": [
    "### Ruled Based Matching"
   ]
  },
  {
   "cell_type": "markdown",
   "id": "27d7667a",
   "metadata": {},
   "source": [
    "Here we are going to understand the role of each token and search for it precisely. In spaCy we can define match patterns which are the lists of dictionaries and eacch dictionary has one token. The keys are the names of token attributes, mapped to their expexted values. "
   ]
  },
  {
   "cell_type": "code",
   "execution_count": 51,
   "id": "528c4ff9",
   "metadata": {},
   "outputs": [
    {
     "name": "stdout",
     "output_type": "stream",
     "text": [
      "Matches:  ['iPhone 13']\n"
     ]
    }
   ],
   "source": [
    "from spacy.matcher import Matcher\n",
    "\n",
    "text = \"The new generation of iPhone  is iPhone 13 and it had huge sell.\"\n",
    "doc = nlp(text)\n",
    "\n",
    "# initialize the matcher\n",
    "matcher = Matcher(nlp.vocab)\n",
    "\n",
    "# create a pattern matching \n",
    "pattern = [{\"TEXT\":\"iPhone\"},{\"IS_DIGIT\":True}]\n",
    "\n",
    "# add the patter to the matcher\n",
    "matcher.add(\"IPHONE_13_Pattern\",[pattern])\n",
    "\n",
    "# let's use the matcher to find the words from the pattern\n",
    "matches = matcher(doc)\n",
    "print(\"Matches: \",[doc[start:end].text for match_id, start, end in matches])"
   ]
  },
  {
   "cell_type": "code",
   "execution_count": 55,
   "id": "f6eb4fb7",
   "metadata": {},
   "outputs": [
    {
     "name": "stdout",
     "output_type": "stream",
     "text": [
      "download Visual\n"
     ]
    }
   ],
   "source": [
    "text = \"I download the Fronite on my laptop and I can't find it. I need help? I downloaded the Minecraft, and I updated the windows version.\\\n",
    "I also need to download Visual Studio Code.\"\n",
    "\n",
    "pattern = [{\"LEMMA\":\"download\"},{\"POS\":\"PROPN\"}]\n",
    "\n",
    "matcher.add(\"Download_pattern\",[pattern])\n",
    "\n",
    "doc = nlp(text)\n",
    "\n",
    "matches = matcher(doc)\n",
    "\n",
    "for match_id, start, end in matches:\n",
    "    print(doc[start:end].text)"
   ]
  },
  {
   "cell_type": "markdown",
   "id": "e6be027d",
   "metadata": {},
   "source": [
    "The pattern below is used to find adjectives followed by one or two nouns."
   ]
  },
  {
   "cell_type": "code",
   "execution_count": 58,
   "id": "c45594bc",
   "metadata": {},
   "outputs": [
    {
     "name": "stdout",
     "output_type": "stream",
     "text": [
      "smart brain\n",
      "good teacher\n"
     ]
    }
   ],
   "source": [
    "text = \"The tree as beautiful and the our planet is wonderful. The nature is a smart brain and good teacher\"\n",
    "\n",
    "pattern = [{\"POS\":\"ADJ\"},{\"POS\":\"NOUN\"},{\"POS\":\"NOUN\",\"OP\":\"?\"}]\n",
    "matcher.add(\"pattern\",[pattern])\n",
    "doc = nlp(text)\n",
    "matches = matcher(doc)\n",
    "\n",
    "for match_id, start, end in matches:\n",
    "    print(doc[start:end].text)"
   ]
  },
  {
   "cell_type": "markdown",
   "id": "431220dc",
   "metadata": {},
   "source": [
    "## Large-scale data analysis \n",
    "\n",
    "In spaCy the *Vocab* stores data shared accross multiple documents which spaCy encodes all strings to *hash values*. the string store is available as nlp.vocab.strings. For each vocab there is a hash value."
   ]
  },
  {
   "cell_type": "code",
   "execution_count": 59,
   "id": "09fa954a",
   "metadata": {},
   "outputs": [],
   "source": [
    "nlp.vocab.strings.add(\"coffee\")\n",
    "coffee_hash = nlp.vocab.strings[\"coffee\"]\n",
    "coffee_string = nlp.vocab.strings[coffee_hash]"
   ]
  },
  {
   "cell_type": "code",
   "execution_count": 60,
   "id": "07e191d6",
   "metadata": {},
   "outputs": [
    {
     "data": {
      "text/plain": [
       "'coffee'"
      ]
     },
     "execution_count": 60,
     "metadata": {},
     "output_type": "execute_result"
    }
   ],
   "source": [
    "coffee_string"
   ]
  },
  {
   "cell_type": "code",
   "execution_count": 61,
   "id": "bda1594d",
   "metadata": {},
   "outputs": [
    {
     "name": "stdout",
     "output_type": "stream",
     "text": [
      "hash value: 3197928453018144401\n"
     ]
    }
   ],
   "source": [
    "text = \"I love coffee\"\n",
    "print(\"hash value:\", nlp.vocab.strings[\"coffee\"])"
   ]
  },
  {
   "cell_type": "code",
   "execution_count": 62,
   "id": "ca58f0a6",
   "metadata": {},
   "outputs": [
    {
     "name": "stdout",
     "output_type": "stream",
     "text": [
      "hash value: 3197928453018144401\n"
     ]
    }
   ],
   "source": [
    "doc = nlp(text)\n",
    "print(\"hash value:\", doc.vocab.strings[\"coffee\"])"
   ]
  },
  {
   "cell_type": "markdown",
   "id": "f6bd465d",
   "metadata": {},
   "source": [
    "#### The Doc object:\n",
    "\n",
    "In spaCy we can import the Doc class from *spacy.tokens*. "
   ]
  },
  {
   "cell_type": "code",
   "execution_count": 63,
   "id": "731a540b",
   "metadata": {},
   "outputs": [],
   "source": [
    "from spacy.tokens import Doc\n",
    "\n",
    "words = [\"hello\", \"world\", \"!\"]\n",
    "spaces = [True, False, False]\n",
    "\n",
    "doc = Doc(nlp.vocab, words=words, spaces=spaces)"
   ]
  },
  {
   "cell_type": "code",
   "execution_count": 69,
   "id": "1eaa8056",
   "metadata": {},
   "outputs": [
    {
     "data": {
      "text/plain": [
       "'hello world!'"
      ]
     },
     "execution_count": 69,
     "metadata": {},
     "output_type": "execute_result"
    }
   ],
   "source": [
    "doc.text"
   ]
  },
  {
   "cell_type": "code",
   "execution_count": 74,
   "id": "a29c2b3f",
   "metadata": {},
   "outputs": [
    {
     "name": "stdout",
     "output_type": "stream",
     "text": [
      "Go, get started!\n"
     ]
    }
   ],
   "source": [
    "nlp = spacy.blank(\"en\")\n",
    "\n",
    "words = [\"Go\",\",\",\"get\",\"started\",\"!\"]\n",
    "spaces = [False, True, True, False, False]\n",
    "\n",
    "doc = Doc(nlp.vocab, words=words, spaces=spaces)\n",
    "print(doc.text)"
   ]
  },
  {
   "cell_type": "markdown",
   "id": "8da0a2d9",
   "metadata": {},
   "source": [
    "#### Span object\n",
    "The *span* is a slice of a doc including one or more tokens. *Span* takes three arguments: the doc, the start indext, and the end index."
   ]
  },
  {
   "cell_type": "code",
   "execution_count": 65,
   "id": "8cff6977",
   "metadata": {},
   "outputs": [
    {
     "data": {
      "text/plain": [
       "hello world"
      ]
     },
     "execution_count": 65,
     "metadata": {},
     "output_type": "execute_result"
    }
   ],
   "source": [
    "from spacy.tokens import Span\n",
    "\n",
    "span = Span(doc, 0, 2)\n",
    "\n",
    "span"
   ]
  },
  {
   "cell_type": "markdown",
   "id": "e4fc2493",
   "metadata": {},
   "source": [
    "#### Word vectors and semantic similarity"
   ]
  },
  {
   "cell_type": "markdown",
   "id": "e9e4a2c5",
   "metadata": {},
   "source": [
    "In spaCy we can use the language libraries to compare the similarity of Doc, Token and Span which it returns a value between 0 and 1. The similarity calculated based on vectorizing the words, tokens and etc. For example:"
   ]
  },
  {
   "cell_type": "code",
   "execution_count": null,
   "id": "3308b41d",
   "metadata": {},
   "outputs": [],
   "source": [
    "spacy.cli.download(\"en_core_web_md\")"
   ]
  },
  {
   "cell_type": "code",
   "execution_count": 78,
   "id": "ef09eca7",
   "metadata": {},
   "outputs": [
    {
     "name": "stdout",
     "output_type": "stream",
     "text": [
      "0.924156668141948\n"
     ]
    }
   ],
   "source": [
    "nlp = spacy.load(\"en_core_web_md\")\n",
    "\n",
    "doc1 = nlp(\"I like pizza\")\n",
    "doc2 = nlp(\"I like hamburger\")\n",
    "\n",
    "print(doc1.similarity(doc2))"
   ]
  },
  {
   "cell_type": "markdown",
   "id": "1b7a840b",
   "metadata": {},
   "source": [
    "similarity between the tokens:"
   ]
  },
  {
   "cell_type": "code",
   "execution_count": 82,
   "id": "ceaa35dd",
   "metadata": {},
   "outputs": [
    {
     "name": "stdout",
     "output_type": "stream",
     "text": [
      "0.6417259\n",
      "0.6634508\n"
     ]
    }
   ],
   "source": [
    "text = \"I love pizza and chicken and pasta\"\n",
    "\n",
    "doc = nlp(text)\n",
    "\n",
    "token_1 = doc[2]\n",
    "token_2 = doc[4]\n",
    "token_3 = doc[6]\n",
    "\n",
    "print(token_1.similarity(token_2))\n",
    "print(token_2.similarity(token_3))"
   ]
  },
  {
   "cell_type": "code",
   "execution_count": 85,
   "id": "6d513716",
   "metadata": {},
   "outputs": [
    {
     "name": "stdout",
     "output_type": "stream",
     "text": [
      "0.8544537835740976\n"
     ]
    }
   ],
   "source": [
    "span = doc[3:6]\n",
    "print(span.similarity(doc))"
   ]
  },
  {
   "cell_type": "markdown",
   "id": "edea62e1",
   "metadata": {},
   "source": [
    "#### Combining predictions and rules"
   ]
  },
  {
   "cell_type": "markdown",
   "id": "b42dd535",
   "metadata": {},
   "source": [
    "##### Ruled based matching"
   ]
  },
  {
   "cell_type": "code",
   "execution_count": 91,
   "id": "d7843043",
   "metadata": {},
   "outputs": [
    {
     "name": "stdout",
     "output_type": "stream",
     "text": [
      "Matches:  ['love cats']\n"
     ]
    }
   ],
   "source": [
    "matcher = Matcher(nlp.vocab)\n",
    "\n",
    "# the pattern below is a list of dictionaries\n",
    "pattern = [{\"LEMMA\":\"love\",\"POS\":\"VERB\"},{\"LOWER\":\"cats\"}]\n",
    "matcher.add(\"LOVE_CATS\",[pattern])\n",
    "\n",
    "# the pattern below shows how often a token should be matched\n",
    "pattern =[{'TEXT':\"very\",\"OP\":\"+\"},{\"TEXT\":\"happy\"}]\n",
    "matcher.add(\"VERY_HAPPY\",[pattern])\n",
    "\n",
    "doc = nlp(\"I love cats and also I love dogs and I am happy about it\")\n",
    "matches = matcher(doc)\n",
    "\n",
    "print(\"Matches: \",[doc[start:end].text for match_id, start, end in matches])"
   ]
  },
  {
   "cell_type": "markdown",
   "id": "cb03f047",
   "metadata": {},
   "source": [
    "##### PhraseMatcher\n",
    "\n",
    "This matcher is faster and it gives the match ID, and the start and end of the match."
   ]
  },
  {
   "cell_type": "code",
   "execution_count": 97,
   "id": "a3093a58",
   "metadata": {},
   "outputs": [
    {
     "name": "stdout",
     "output_type": "stream",
     "text": [
      "Matches:  [\"King's watches\"]\n"
     ]
    }
   ],
   "source": [
    "from spacy.matcher import PhraseMatcher\n",
    "\n",
    "matcher = PhraseMatcher(nlp.vocab)\n",
    "\n",
    "text_pattern = \"King's watches\"\n",
    "pattern = nlp(text_pattern)\n",
    "\n",
    "matcher.add(\"Gold\",[pattern])\n",
    "\n",
    "text = \"many people love to have King's watches\"\n",
    "doc = nlp(text)\n",
    "\n",
    "print(\"Matches: \",[doc[start:end].text for match_id, start, end in matcher(doc)])"
   ]
  },
  {
   "cell_type": "markdown",
   "id": "7593a7d6",
   "metadata": {},
   "source": [
    "## Processing Pipelines"
   ]
  },
  {
   "cell_type": "markdown",
   "id": "a90180e2",
   "metadata": {},
   "source": [
    "Built-in pipeline components\n",
    "\n",
    "    Name    Description              Creates\n",
    "    tagger  Part-of-speech tagger    Token.tag, Token.pos\n",
    "    parser  Dependency parser        Token.dep, Token.head, Doc.sents, Doc.noun_chunks\n",
    "    ner     Named entity recognizer  Doc.ents, Toekn.ent_iob, Token.ent_type\n",
    "    textcat Text classifer           Doc.cats\n",
    "    \n",
    "\n",
    "To know the list of pipeline component names:\n",
    "\n",
    "*nlp.pipe_names*\n",
    "\n",
    "*nlp.pipeline*"
   ]
  },
  {
   "cell_type": "markdown",
   "id": "ea602daf",
   "metadata": {},
   "source": [
    "#### Custom pipeline components\n",
    "\n",
    "With this we can have our own values based on tokens and their attributes plus adding named entities. As an example below we want to create a pattern which has the annimals' names and at the end we print the entity text and entity label."
   ]
  },
  {
   "cell_type": "code",
   "execution_count": 106,
   "id": "98627b4b",
   "metadata": {},
   "outputs": [],
   "source": [
    "import spacy\n",
    "from spacy.language import Language\n",
    "from spacy.matcher import PhraseMatcher\n",
    "from spacy.tokens import Span\n",
    "\n",
    "nlp = spacy.load(\"en_core_web_md\")\n",
    "animals = [\"cat\",\"turtule\",\"Golden Retriever\",\"Rattus norvegicus\"]\n",
    "animal_patterns = list(nlp.pipe(animals))"
   ]
  },
  {
   "cell_type": "code",
   "execution_count": 103,
   "id": "ed2088c3",
   "metadata": {},
   "outputs": [
    {
     "name": "stdout",
     "output_type": "stream",
     "text": [
      "animal_patterns: [cat, turtule, Golden Retriever, Rattus norvegicus]\n"
     ]
    }
   ],
   "source": [
    "print(\"animal_patterns:\", animal_patterns)\n",
    "matcher = PhraseMatcher(nlp.vocab)\n",
    "matcher.add(\"ANIMAL\", animal_patterns)\n",
    "\n",
    "# define custom component\n",
    "@Language.component(\"animal_component\")\n",
    "def animal_component_function(doc):\n",
    "    matches = matcher(doc)\n",
    "    spans = [Span(doc, start, end, label=\"ANIMAL\") for match_id, start, end in matches]\n",
    "    doc.ents = spans\n",
    "    return doc"
   ]
  },
  {
   "cell_type": "code",
   "execution_count": 104,
   "id": "99aa7797",
   "metadata": {},
   "outputs": [
    {
     "name": "stdout",
     "output_type": "stream",
     "text": [
      "['tok2vec', 'tagger', 'parser', 'ner', 'animal_component', 'attribute_ruler', 'lemmatizer']\n"
     ]
    }
   ],
   "source": [
    "# Add the component to the pipline after the \"ner\" component\n",
    "\n",
    "nlp.add_pipe(\"animal_component\", after=\"ner\")\n",
    "print(nlp.pipe_names)"
   ]
  },
  {
   "cell_type": "code",
   "execution_count": 105,
   "id": "00183ab6",
   "metadata": {},
   "outputs": [
    {
     "name": "stdout",
     "output_type": "stream",
     "text": [
      "[('cat', 'ANIMAL')]\n"
     ]
    }
   ],
   "source": [
    "doc = nlp(\"I have a cat and Golden Reriever\")\n",
    "print([(ent.text, ent.label_) for ent in doc.ents])"
   ]
  },
  {
   "cell_type": "markdown",
   "id": "848e3908",
   "metadata": {},
   "source": [
    "#### Find the country names in the text"
   ]
  },
  {
   "cell_type": "code",
   "execution_count": 112,
   "id": "ba063735",
   "metadata": {},
   "outputs": [
    {
     "name": "stdout",
     "output_type": "stream",
     "text": [
      "[Germany, Turkey, Finland]\n"
     ]
    }
   ],
   "source": [
    "import json\n",
    "\n",
    "with open(\"countries.json\", encoding=\"utf8\") as f:\n",
    "    COUNTRIES = json.loads(f.read())\n",
    "    \n",
    "nlp = spacy.blank(\"en\")\n",
    "\n",
    "text = \"Germany, Turkey, USA and Finland had a meeting yesterday.\"\n",
    "\n",
    "doc = nlp(text)\n",
    "\n",
    "from spacy.matcher import PhraseMatcher\n",
    "\n",
    "matcher = PhraseMatcher(nlp.vocab)\n",
    "\n",
    "# Create pattern Doc objects and add them to the matcher\n",
    "patterns = list(nlp.pipe(COUNTRIES))\n",
    "matcher.add(\"COUNTRY\", patterns)\n",
    "\n",
    "# use matcher to find the countries\n",
    "matches = matcher(doc)\n",
    "print([doc[start:end] for match_id, start, end in matches])"
   ]
  },
  {
   "cell_type": "code",
   "execution_count": 117,
   "id": "ad8811d2",
   "metadata": {},
   "outputs": [
    {
     "data": {
      "text/plain": [
       "'After the Cold War, the UN saw a radical expansion in its peacekeeping duties, taking on more missions in ten years than it had in the previous four decades.Between 1988 and 2000, the number of adopted Security Council resolutions more than doubled, and the peacekeeping budget increased more than tenfold. The UN negotiated an end to the Salvadoran Civil War, launched a successful peacekeeping mission in Namibia, and oversaw democratic elections in post-apartheid South Africa and post-Khmer Rouge Cambodia. In 1991, the UN authorized a US-led coalition that repulsed the Iraqi invasion of Kuwait. Brian Urquhart, Under-Secretary-General from 1971 to 1985, later described the hopes raised by these successes as a \"false renaissance\" for the organization, given the more troubled missions that followed. Though the UN Charter had been written primarily to prevent aggression by one nation against another, in the early 1990s the UN faced a number of simultaneous, serious crises within nations such as Somalia, Haiti, Mozambique, and the former Yugoslavia. The UN mission in Somalia was widely viewed as a failure after the US withdrawal following casualties in the Battle of Mogadishu, and the UN mission to Bosnia faced \"worldwide ridicule\" for its indecisive and confused mission in the face of ethnic cleansing. In 1994, the UN Assistance Mission for Rwanda failed to intervene in the Rwandan genocide amid indecision in the Security Council. Beginning in the last decades of the Cold War, American and European critics of the UN condemned the organization for perceived mismanagement and corruption. In 1984, the US President, Ronald Reagan, withdrew his nation\\'s funding from UNESCO (the United Nations Educational, Scientific and Cultural Organization, founded 1946) over allegations of mismanagement, followed by Britain and Singapore. Boutros Boutros-Ghali, Secretary-General from 1992 to 1996, initiated a reform of the Secretariat, reducing the size of the organization somewhat. His successor, Kofi Annan (1997–2006), initiated further management reforms in the face of threats from the United States to withhold its UN dues. In the late 1990s and 2000s, international interventions authorized by the UN took a wider variety of forms. The UN mission in the Sierra Leone Civil War of 1991–2002 was supplemented by British Royal Marines, and the invasion of Afghanistan in 2001 was overseen by NATO. In 2003, the United States invaded Iraq despite failing to pass a UN Security Council resolution for authorization, prompting a new round of questioning of the organization\\'s effectiveness. Under the eighth Secretary-General, Ban Ki-moon, the UN has intervened with peacekeepers in crises including the War in Darfur in Sudan and the Kivu conflict in the Democratic Republic of Congo and sent observers and chemical weapons inspectors to the Syrian Civil War. In 2013, an internal review of UN actions in the final battles of the Sri Lankan Civil War in 2009 concluded that the organization had suffered \"systemic failure\". One hundred and one UN personnel died in the 2010 Haiti earthquake, the worst loss of life in the organization\\'s history. The Millennium Summit was held in 2000 to discuss the UN\\'s role in the 21st century. The three day meeting was the largest gathering of world leaders in history, and culminated in the adoption by all member states of the Millennium Development Goals (MDGs), a commitment to achieve international development in areas such as poverty reduction, gender equality, and public health. Progress towards these goals, which were to be met by 2015, was ultimately uneven. The 2005 World Summit reaffirmed the UN\\'s focus on promoting development, peacekeeping, human rights, and global security. The Sustainable Development Goals were launched in 2015 to succeed the Millennium Development Goals. In addition to addressing global challenges, the UN has sought to improve its accountability and democratic legitimacy by engaging more with civil society and fostering a global constituency. In an effort to enhance transparency, in 2016 the organization held its first public debate between candidates for Secretary-General. On 1 January 2017, Portuguese diplomat António Guterres, who previously served as UN High Commissioner for Refugees, became the ninth Secretary-General. Guterres has highlighted several key goals for his administration, including an emphasis on diplomacy for preventing conflicts, more effective peacekeeping efforts, and streamlining the organization to be more responsive and versatile to global needs.\\n'"
      ]
     },
     "execution_count": 117,
     "metadata": {},
     "output_type": "execute_result"
    }
   ],
   "source": [
    "#### Find the relationship between countries\n",
    "\n",
    "with open(\"countries.json\", encoding=\"utf8\") as f:\n",
    "    COUNTRIES = json.loads(f.read())\n",
    "    \n",
    "with open(\"country_text.txt\", encoding=\"utf8\") as f:\n",
    "    Text = f.read()\n",
    "\n",
    "Text"
   ]
  },
  {
   "cell_type": "code",
   "execution_count": 118,
   "id": "48abfe69",
   "metadata": {},
   "outputs": [
    {
     "name": "stdout",
     "output_type": "stream",
     "text": [
      "Namibia --> Namibia\n",
      "South --> South Africa\n",
      "Cambodia --> Cambodia\n",
      "Kuwait --> Kuwait\n",
      "Somalia --> Somalia\n",
      "Haiti --> Haiti\n",
      "Mozambique --> Mozambique\n",
      "Somalia --> Somalia\n",
      "Rwanda --> Rwanda\n",
      "Singapore --> Singapore\n",
      "Sierra --> Sierra Leone\n",
      "Afghanistan --> Afghanistan\n",
      "Iraq --> Iraq\n",
      "Sudan --> Sudan\n",
      "Congo --> Congo\n",
      "Haiti --> Haiti\n",
      "[('Namibia', 'GPE'), ('South Africa', 'GPE'), ('Cambodia', 'GPE'), ('Kuwait', 'GPE'), ('Somalia', 'GPE'), ('Haiti', 'GPE'), ('Mozambique', 'GPE'), ('Somalia', 'GPE'), ('Rwanda', 'GPE'), ('Singapore', 'GPE'), ('Sierra Leone', 'GPE'), ('Afghanistan', 'GPE'), ('Iraq', 'GPE'), ('Sudan', 'GPE'), ('Congo', 'GPE'), ('Haiti', 'GPE')]\n"
     ]
    }
   ],
   "source": [
    "matcher = PhraseMatcher(nlp.vocab)\n",
    "\n",
    "patterns = list(nlp.pipe(COUNTRIES))\n",
    "\n",
    "matcher.add(\"COUNTRY\", patterns)\n",
    "\n",
    "doc = nlp(Text)\n",
    "doc.ents = []\n",
    "\n",
    "for match_id, start, end in matcher(doc):\n",
    "    # create a label for the span as GPE\n",
    "    span = Span(doc, start, end, label = \"GPE\")\n",
    "    \n",
    "    # write the doc.ents and add the span\n",
    "    doc.ents = list(doc.ents) + [span]\n",
    "    \n",
    "    # get the span's root head token\n",
    "    span_root_head = span.root.head\n",
    "    print(span_root_head.text, \"-->\", span.text)\n",
    "    \n",
    "print([(ent.text, ent.label_) for ent in doc.ents if ent.label_ == \"GPE\"])"
   ]
  },
  {
   "attachments": {
    "image.png": {
     "image/png": "[encoded data removed]"
    }
   },
   "cell_type": "markdown",
   "id": "5d22108c",
   "metadata": {},
   "source": [
    "### Processing Pipelines\n",
    "\n",
    "Image below shows the process of calling the *nlp* engine:\n",
    "\n",
    "![image.png](attachment:image.png)\n",
    "\n",
    "\n",
    "The biult-in pipeline components are:\n",
    "\n",
    "    Name       Description             Creates\n",
    "    tagger     Part-of-speech-tagger   Token.tag, Token.pos\n",
    "    parser     Dependency parser       Token.dep, Token.head, Doc.sents, Doc.noun_chunks\n",
    "    ner        Named entity recognizer Doc.ents, Token.ent_iob, Token.ent_type\n",
    "    textcat    Text classifier         Doc.cats"
   ]
  },
  {
   "cell_type": "code",
   "execution_count": 120,
   "id": "b4a1dcb2",
   "metadata": {},
   "outputs": [
    {
     "name": "stdout",
     "output_type": "stream",
     "text": [
      "nlp pipelines:\n",
      " ['tok2vec', 'tagger', 'parser', 'ner', 'attribute_ruler', 'lemmatizer']\n"
     ]
    }
   ],
   "source": [
    "nlp = spacy.load(\"en_core_web_md\")\n",
    "\n",
    "print(\"nlp pipelines:\\n\", nlp.pipe_names)"
   ]
  },
  {
   "cell_type": "markdown",
   "id": "828b9dca",
   "metadata": {},
   "source": [
    "#### Custom pipeline components"
   ]
  },
  {
   "cell_type": "markdown",
   "id": "a86a179f",
   "metadata": {},
   "source": [
    "How to add each components in the pipeline?\n",
    "\n",
    "    Argument      Description          Example\n",
    "    last          If True, add last    nlp.add_pipe(\"component\", last = True)\n",
    "    first         If True, add first   nlp.add_pipe(\"component\", first = True)\n",
    "    before        Add before component nlp.add_pipe(\"component\", before = \"ner\")\n",
    "    after         Add after component  nlp.add_pipe(\"component\", after = \"tagger\")\n",
    "    \n",
    "    \n",
    "Below is showing a very simple custom pipeline. The function: custom_component_function reads the doc file and the *nlp.add_pipe* locates our custome component in the pipeline."
   ]
  },
  {
   "cell_type": "code",
   "execution_count": null,
   "id": "b74c8a54",
   "metadata": {},
   "outputs": [],
   "source": [
    "nlp = spacy.load(\"en_core_web_sm\")\n",
    "\n",
    "def custome_component_function(doc):\n",
    "    print(\"Doc length: \", len(doc))\n",
    "    return doc\n",
    "\n",
    "nlp.add_pipe(\"custom_component\", first=True)\n",
    "\n",
    "print(\"Pipeline:\\n\", nlp.pipe_names)"
   ]
  },
  {
   "cell_type": "markdown",
   "id": "94e8f958",
   "metadata": {},
   "source": [
    "Example 1:"
   ]
  },
  {
   "cell_type": "code",
   "execution_count": 123,
   "id": "29ddd34d",
   "metadata": {},
   "outputs": [
    {
     "name": "stdout",
     "output_type": "stream",
     "text": [
      "['length_component', 'tok2vec', 'tagger', 'parser', 'ner', 'attribute_ruler', 'lemmatizer']\n",
      "This document is 4 tokens long.\n"
     ]
    }
   ],
   "source": [
    "from spacy.language import Language\n",
    "\n",
    "@Language.component(\"length_component\") # here the component name is \"length_component\" and it is added to the pip\n",
    "def length_component_function(doc): # here we define the length_component component by a function\n",
    "    doc_length = len(doc)\n",
    "    print(\"This document is \"+str(doc_length)+\" tokens long.\")\n",
    "    return doc\n",
    "\n",
    "nlp = spacy.load(\"en_core_web_sm\")\n",
    "\n",
    "nlp.add_pipe(\"length_component\", first=True)\n",
    "print(nlp.pipe_names)\n",
    "\n",
    "doc = nlp(\"Hello wonder world!\")"
   ]
  },
  {
   "cell_type": "markdown",
   "id": "0309f13b",
   "metadata": {},
   "source": [
    "Example 2:\n",
    "\n",
    "In this example we are going to use the PhraseMatcher to find the animal names in the document and adds the matched spans to the don.ents"
   ]
  },
  {
   "cell_type": "code",
   "execution_count": 127,
   "id": "eeb4354a",
   "metadata": {},
   "outputs": [
    {
     "name": "stdout",
     "output_type": "stream",
     "text": [
      "animal_patterns: [Golder Retriver, cats, turtles, Rattus norvegicus]\n",
      "['tok2vec', 'tagger', 'parser', 'ner', 'animal_component', 'attribute_ruler', 'lemmatizer']\n",
      "[('cats', 'ANIMAL')]\n"
     ]
    }
   ],
   "source": [
    "nlp = spacy.load(\"en_core_web_md\")\n",
    "\n",
    "animals = [\"Golder Retriver\", \"cats\", \"turtles\", \"Rattus norvegicus\"]\n",
    "animal_patterns = list(nlp.pipe(animals))\n",
    "print(\"animal_patterns:\", animal_patterns)\n",
    "\n",
    "matcher = PhraseMatcher(nlp.vocab)\n",
    "matcher.add(\"ANIMAL\", animal_patterns)\n",
    "\n",
    "@Language.component(\"animal_component\")\n",
    "def animal_component_function(doc):\n",
    "    matches = matcher(doc)\n",
    "    spans = [Span(doc, start, end, label =\"ANIMAL\") for match_id, start, end in matches]\n",
    "    doc.ents = spans\n",
    "    return doc\n",
    "\n",
    "# Add the component to the pipeline after the \"ner\" component\n",
    "nlp.add_pipe(\"animal_component\", after=\"ner\")\n",
    "print(nlp.pipe_names)\n",
    "\n",
    "#process the text\n",
    "text = \"cats are cute and dogs are lovely. Turtles are different\"\n",
    "doc = nlp(text)\n",
    "print( [ (ent.text, ent.label_) for ent in doc.ents ] )"
   ]
  },
  {
   "cell_type": "markdown",
   "id": "47d5adba",
   "metadata": {},
   "source": [
    "#### Setting extension attributes"
   ]
  },
  {
   "cell_type": "code",
   "execution_count": 140,
   "id": "eee7d5dd",
   "metadata": {},
   "outputs": [],
   "source": [
    "del nlp, Token"
   ]
  },
  {
   "cell_type": "code",
   "execution_count": 147,
   "id": "7388ce0d",
   "metadata": {},
   "outputs": [
    {
     "name": "stdout",
     "output_type": "stream",
     "text": [
      "[('I', True), ('love', True), ('Italy', True), ('and', True), ('Spain', True), ('.', True)]\n"
     ]
    }
   ],
   "source": [
    "nlp = spacy.blank(\"en\")\n",
    "from spacy.tokens import Token\n",
    "\n",
    "# register the token extension attribute \"is_country\"\n",
    "Token.set_extension(\"is_country\", default = True)\n",
    "\n",
    "text = \"I love Italy and Spain.\"\n",
    "doc = nlp(text)\n",
    "doc[3]._.is_country = True\n",
    "\n",
    "print( [(token.text, token._.is_country) for token in doc] )"
   ]
  },
  {
   "cell_type": "markdown",
   "id": "1a00abf9",
   "metadata": {},
   "source": [
    "#### Reversed extensions\n",
    "\n",
    "Reversing each tokens in the text:"
   ]
  },
  {
   "cell_type": "code",
   "execution_count": 148,
   "id": "7994a604",
   "metadata": {},
   "outputs": [
    {
     "name": "stdout",
     "output_type": "stream",
     "text": [
      "reversed: llA\n",
      "reversed: stnemucod\n",
      "reversed: era\n",
      "reversed: gnorw\n",
      "reversed: ,\n",
      "reversed: dna\n",
      "reversed: ti\n",
      "reversed: si\n",
      "reversed: eurt\n"
     ]
    }
   ],
   "source": [
    "nlp = spacy.blank(\"en\")\n",
    "\n",
    "def get_reversed(token):\n",
    "    return token.text[::-1]\n",
    "\n",
    "Token.set_extension(\"reversed\", getter = get_reversed)\n",
    "\n",
    "text = \"All documents are wrong, and it is true\"\n",
    "\n",
    "doc = nlp(text)\n",
    "\n",
    "for token in doc:\n",
    "    print(\"reversed:\", token._.reversed)"
   ]
  },
  {
   "cell_type": "code",
   "execution_count": 149,
   "id": "1bb4d48a",
   "metadata": {},
   "outputs": [
    {
     "name": "stdout",
     "output_type": "stream",
     "text": [
      "has_number:  True\n"
     ]
    }
   ],
   "source": [
    "nlp = spacy.blank(\"en\")\n",
    "\n",
    "def get_has_number(doc):\n",
    "    return any(token.like_num for token in doc)\n",
    "\n",
    "Doc.set_extension(\"has_number\", getter=get_has_number)\n",
    "\n",
    "text = \"He was born in 1920 and found his family in 1960 after 40 years!\"\n",
    "\n",
    "doc = nlp(text)\n",
    "\n",
    "print(\"has_number: \", doc._.has_number)"
   ]
  },
  {
   "cell_type": "markdown",
   "id": "19d82587",
   "metadata": {},
   "source": [
    "### add extensions to the span\n",
    "\n",
    "Below *get_wikipedia_url* is an extension which checks the url if it has one of the labels:\n",
    "    \n",
    "    Person\n",
    "    ORG\n",
    "    GPE\n",
    "    LOCATION\n",
    "    \n",
    "Let's dive into it!"
   ]
  },
  {
   "cell_type": "code",
   "execution_count": 153,
   "id": "cc4f63ba",
   "metadata": {},
   "outputs": [
    {
     "name": "stdout",
     "output_type": "stream",
     "text": [
      "over fifty years None\n",
      "David Bowie https://en.wikipedia.org/w/index.php?search=David_Bowie\n"
     ]
    }
   ],
   "source": [
    "nlp = spacy.load(\"en_core_web_sm\")\n",
    "\n",
    "\n",
    "def get_wikipedia_url(span):\n",
    "    if span.label_ in (\"PERSON\", \"ORG\", \"GPE\", \"LOCATION\"):\n",
    "        entity_text = span.text.replace(\" \", \"_\")\n",
    "        return \"https://en.wikipedia.org/w/index.php?search=\" + entity_text\n",
    "    \n",
    "#Span.set_extension(\"wikipedia_url\", getter=get_wikipedia_url)\n",
    "\n",
    "\n",
    "text = \"In over fifty years from his very fist recordings right through to his last album, David Bowie was at the vanguard of contemporary culture.\"\n",
    "\n",
    "doc = nlp(text)\n",
    "\n",
    "for ent in doc.ents:\n",
    "    print(ent.text, ent._.wikipedia_url)"
   ]
  },
  {
   "cell_type": "markdown",
   "id": "bbe16d5e",
   "metadata": {},
   "source": [
    "#### Good tips to save time to run the code"
   ]
  },
  {
   "cell_type": "markdown",
   "id": "490cc65f",
   "metadata": {},
   "source": [
    "##### Passing in context\n",
    "set *as_tuples=True* on *nlp.pipe* lets you pass in (text,context) tuples which yeilds (doc,context) tuples which is useful for associating metadata with the *doc*"
   ]
  },
  {
   "cell_type": "code",
   "execution_count": 154,
   "id": "00ea4948",
   "metadata": {},
   "outputs": [
    {
     "name": "stdout",
     "output_type": "stream",
     "text": [
      "This is a text 15\n",
      "Another text 16\n"
     ]
    }
   ],
   "source": [
    "data = [\n",
    "    (\"This is a text\", {\"id\":1, \"page_number\":15}),\n",
    "    (\"Another text\", {\"id\":2, \"page_number\":16})\n",
    "]\n",
    "\n",
    "for doc, context in nlp.pipe(data, as_tuples=True):\n",
    "    print(doc.text, context[\"page_number\"])"
   ]
  },
  {
   "cell_type": "code",
   "execution_count": 155,
   "id": "c036fe8e",
   "metadata": {},
   "outputs": [],
   "source": [
    "from spacy.tokens import Doc\n",
    "\n",
    "\n",
    "Doc.set_extension(\"id\", default=None)\n",
    "Doc.set_extension(\"page_number\", default=None)\n",
    "\n",
    "data = [\n",
    "    (\"This is a text\", {\"id\":1, \"page_number\":15}),\n",
    "    (\"Another text\", {\"id\":2, \"page_number\":16})\n",
    "]\n",
    "\n",
    "for doc, context in nlp.pipe(data, as_tuples=True):\n",
    "    doc._.id = context[\"id\"]\n",
    "    doc._.page_number = context[\"page_number\"]\n"
   ]
  },
  {
   "cell_type": "markdown",
   "id": "c2a73209",
   "metadata": {},
   "source": [
    "To convert the text to a doc file it is better to do so:"
   ]
  },
  {
   "cell_type": "markdown",
   "id": "20482c6d",
   "metadata": {},
   "source": [
    "bad:"
   ]
  },
  {
   "cell_type": "code",
   "execution_count": 156,
   "id": "9ffa036a",
   "metadata": {},
   "outputs": [],
   "source": [
    "doc = nlp(\"hello world\")"
   ]
  },
  {
   "cell_type": "markdown",
   "id": "dfe642d1",
   "metadata": {},
   "source": [
    "good:"
   ]
  },
  {
   "cell_type": "code",
   "execution_count": 157,
   "id": "9e11c270",
   "metadata": {},
   "outputs": [],
   "source": [
    "doc = nlp.make_doc(\"hello world\")"
   ]
  },
  {
   "cell_type": "markdown",
   "id": "021cff79",
   "metadata": {},
   "source": [
    "#### Running only some feature of the pipeline "
   ]
  },
  {
   "cell_type": "code",
   "execution_count": 166,
   "id": "fc72f560",
   "metadata": {},
   "outputs": [
    {
     "name": "stdout",
     "output_type": "stream",
     "text": [
      "['tok2vec', 'tagger', 'parser', 'ner', 'attribute_ruler', 'lemmatizer']\n",
      "()\n"
     ]
    }
   ],
   "source": [
    "nlp = spacy.load(\"en_core_web_sm\")\n",
    "print(nlp.pipe_names)\n",
    "\n",
    "text = \"hello wonderful world. His name is famous VIP\"\n",
    "\n",
    "with nlp.select_pipes(disable=[\"lemmatizer\", \"parser\"]):\n",
    "    doc = nlp(text)\n",
    "    print(doc.ents)"
   ]
  },
  {
   "cell_type": "markdown",
   "id": "76228c89",
   "metadata": {},
   "source": [
    "#### revisiting the efficient coding in spacy\n",
    "\n",
    "look at the code below. The texts are process in a for loop one by one but we can do better!"
   ]
  },
  {
   "cell_type": "code",
   "execution_count": null,
   "id": "81a37538",
   "metadata": {},
   "outputs": [],
   "source": [
    "with open(\"tweets.jso\", encoding=\"utf8\") as f:\n",
    "    TEXTS = json.loads(f.read())\n",
    "    \n",
    "    \n",
    "for text in TEXTS:\n",
    "    doc = nlp(text)\n",
    "    print( [token.text for token in doc if toekn.pos_ == \"ADJ\"] )"
   ]
  },
  {
   "cell_type": "markdown",
   "id": "a4768de7",
   "metadata": {},
   "source": [
    "Now the new look:"
   ]
  },
  {
   "cell_type": "code",
   "execution_count": null,
   "id": "5e07df56",
   "metadata": {},
   "outputs": [],
   "source": [
    "with open(\"tweets.jso\", encoding=\"utf8\") as f:\n",
    "    TEXTS = json.loads(f.read())\n",
    "    \n",
    "    \n",
    "for doc in nlp.pipe(TEXTS):\n",
    "    print( [token.text for token in doc if toekn.pos_ == \"ADJ\"] )"
   ]
  },
  {
   "cell_type": "markdown",
   "id": "19376461",
   "metadata": {},
   "source": [
    "##### second example"
   ]
  },
  {
   "cell_type": "code",
   "execution_count": null,
   "id": "f3714890",
   "metadata": {},
   "outputs": [],
   "source": [
    "with open(\"tweets.jso\", encoding=\"utf8\") as f:\n",
    "    TEXTS = json.loads(f.read())\n",
    "    \n",
    "    \n",
    "docs = [nlp(text) for text in TEXTS]\n",
    "entities = [doc.ents for doc in docs]\n",
    "print(*entities)"
   ]
  },
  {
   "cell_type": "markdown",
   "id": "a9e326b7",
   "metadata": {},
   "source": [
    "Here let's use the list to remove the for loop"
   ]
  },
  {
   "cell_type": "code",
   "execution_count": null,
   "id": "ae0620d7",
   "metadata": {},
   "outputs": [],
   "source": [
    "with open(\"tweets.jso\", encoding=\"utf8\") as f:\n",
    "    TEXTS = json.loads(f.read())\n",
    "    \n",
    "    \n",
    "docs = list(nlp.pipe(TEXTS))\n",
    "entities = [doc.ents for doc in docs]\n",
    "print(*entities)"
   ]
  },
  {
   "cell_type": "markdown",
   "id": "b2ef9464",
   "metadata": {},
   "source": [
    "##### Third example"
   ]
  },
  {
   "cell_type": "code",
   "execution_count": null,
   "id": "dbebb0c5",
   "metadata": {},
   "outputs": [],
   "source": [
    "people = [\"Man\",\"Boy\",\"Girl\",\"Lady\"]\n",
    "\n",
    "patterns = [nlp(person) for person in people]"
   ]
  },
  {
   "cell_type": "markdown",
   "id": "ca434d24",
   "metadata": {},
   "source": [
    "Let's use the list"
   ]
  },
  {
   "cell_type": "code",
   "execution_count": 167,
   "id": "417d9ddb",
   "metadata": {},
   "outputs": [],
   "source": [
    "people = [\"Man\",\"Boy\",\"Girl\",\"Lady\"]\n",
    "\n",
    "patterns = nlp.pipe(people)"
   ]
  },
  {
   "cell_type": "markdown",
   "id": "1b7534ee",
   "metadata": {},
   "source": [
    "##### Fourth example\n",
    "\n",
    "Below the json file is imported and the key values such as *author*, *book* and the *text* are printed here"
   ]
  },
  {
   "cell_type": "code",
   "execution_count": 169,
   "id": "346aa8e0",
   "metadata": {},
   "outputs": [
    {
     "name": "stdout",
     "output_type": "stream",
     "text": [
      "One morning, when Gregor Samsa woke from troubled dreams, he found himself transformed in his bed into a horrible vermin.\n",
      "-'Metamorphosis'by Franz Kafka\n",
      "\n",
      "I know not all that may be coming, but be it what it will, I'll go to it laughing.\n",
      "-'Moby-Dick or, The Whale'by Herman Melville\n",
      "\n",
      "It was the best of times, it was the worst of times.\n",
      "-'A Tale of Two Cities'by Charles Dickens\n",
      "\n",
      "The only people for me are the mad ones, the ones who are mad to live, mad to talk, mad to be saved, desirous of everything at the same time, the ones who never yawn or say a commonplace thing, but burn, burn, burn like fabulous yellow roman candles exploding like spiders across the stars.\n",
      "-'On the Road'by Jack Kerouac\n",
      "\n",
      "It was a bright cold day in April, and the clocks were striking thirteen.\n",
      "-'1984'by George Orwell\n",
      "\n",
      "Nowadays people know the price of everything and the value of nothing.\n",
      "-'The Picture Of Dorian Gray'by Oscar Wilde\n",
      "\n"
     ]
    }
   ],
   "source": [
    "with open(\"bookquotes.json\", encoding=\"utf8\") as f:\n",
    "    DATA = json.loads(f.read())\n",
    "    \n",
    "nlp = spacy.blank(\"en\")\n",
    "\n",
    "Doc.set_extension(\"author\", default=None)\n",
    "\n",
    "Doc.set_extension(\"book\", default=None)\n",
    "\n",
    "for doc, context in nlp.pipe(DATA, as_tuples = True):\n",
    "    doc._.book = context[\"book\"]\n",
    "    doc._.author = context[\"author\"]\n",
    "    print(f\"{doc.text}\\n-'{doc._.book}'by {doc._.author}\\n\")"
   ]
  },
  {
   "cell_type": "markdown",
   "id": "53aead8b",
   "metadata": {},
   "source": [
    "##### disable some of the pipelines:"
   ]
  },
  {
   "cell_type": "code",
   "execution_count": 172,
   "id": "a9ad137b",
   "metadata": {},
   "outputs": [
    {
     "name": "stdout",
     "output_type": "stream",
     "text": [
      "(American, College Park, Georgia)\n"
     ]
    }
   ],
   "source": [
    "nlp = spacy.load(\"en_core_web_sm\")\n",
    "\n",
    "text = (\n",
    "\"chick-fill A is an American fast food restaurant chain headquarted in the city of College Park, Georgia, specializing in chicken sandwitches\"\n",
    ")\n",
    "\n",
    "with nlp.select_pipes(disable=[\"tagger\", \"lemmatizer\"]):\n",
    "    doc = nlp(text)\n",
    "    print(doc.ents)"
   ]
  },
  {
   "attachments": {
    "image-2.png": {
     "image/png": "[encoded data removed]"
    }
   },
   "cell_type": "markdown",
   "id": "9d781bbb",
   "metadata": {},
   "source": [
    "## Training the Neural Network Models\n",
    "\n",
    "Here you learn about the spaCy's statistical models which you can modify and train them. Below shows the flow of training the models:\n",
    "\n",
    "![image-2.png](attachment:image-2.png)\n",
    "\n",
    "Below are the steps to train the model:\n",
    "* Examples we need the model to predict them\n",
    "* Update the existing model usually with a few thousand examples\n",
    "* Train a new category: a few thousands to million examples\n",
    "\n",
    "let's create a corpus to train the model:\n"
   ]
  },
  {
   "cell_type": "code",
   "execution_count": 175,
   "id": "88331ed2",
   "metadata": {},
   "outputs": [
    {
     "data": {
      "text/plain": [
       "[iPhone X is coming, I need a new phone! Any tips?]"
      ]
     },
     "execution_count": 175,
     "metadata": {},
     "output_type": "execute_result"
    }
   ],
   "source": [
    "nlp = spacy.blank(\"en\")\n",
    "\n",
    "doc1 = nlp(\"iPhone X is coming\")\n",
    "doc1.ents = [Span(doc1, 0, 2, label=\"GADGET\")]\n",
    "\n",
    "doc2 = nlp(\"I need a new phone! Any tips?\")\n",
    "\n",
    "docs = [doc1, doc2]\n",
    "docs"
   ]
  },
  {
   "cell_type": "markdown",
   "id": "043ade8e",
   "metadata": {},
   "source": [
    "Now split the data into two parts:\n",
    "* Training data\n",
    "* Developement data\n"
   ]
  },
  {
   "cell_type": "code",
   "execution_count": 180,
   "id": "24ed536c",
   "metadata": {},
   "outputs": [
    {
     "name": "stdout",
     "output_type": "stream",
     "text": [
      "[I need a new phone! Any tips?]\n",
      "[iPhone X is coming]\n"
     ]
    }
   ],
   "source": [
    "import numpy as np\n",
    "\n",
    "np.random.shuffle(docs)\n",
    "\n",
    "train_docs = docs[:len(docs)//2]\n",
    "dev_docs = docs[len(docs)//2:]\n",
    "\n",
    "print(train_docs)\n",
    "print(dev_docs)"
   ]
  },
  {
   "cell_type": "markdown",
   "id": "f6669bd6",
   "metadata": {},
   "source": [
    "Saving the data is wise. The *DocBin* is the container which efficiently stores and saves *Doc* objects. *DocBin* is faster and produces smaller file sizes because it only stores the shared vocabulary once. "
   ]
  },
  {
   "cell_type": "code",
   "execution_count": null,
   "id": "65b356f1",
   "metadata": {},
   "outputs": [],
   "source": [
    "train_docbin = DocBin(docs=train_docs)\n",
    "train_docbin.to_disk(\"train.spacy\")\n",
    "\n",
    "dev_docbin = DocBin(docs=dev_docs)\n",
    "dev_docbin.to_disk(\"dev.spacy\")"
   ]
  },
  {
   "cell_type": "markdown",
   "id": "e5ee4174",
   "metadata": {},
   "source": [
    "To convert the data you can use the *spacy convert* which supports .conll, conllu, .iob and json formats."
   ]
  },
  {
   "cell_type": "markdown",
   "id": "ae58a7c8",
   "metadata": {},
   "source": [
    "#### Example of labeling the entities in the corpus"
   ]
  },
  {
   "cell_type": "code",
   "execution_count": 1,
   "id": "e4043f8e",
   "metadata": {},
   "outputs": [],
   "source": [
    "import spacy\n",
    "from spacy.tokens import Span\n",
    "\n",
    "nlp = spacy.blank(\"en\")\n",
    "\n",
    "doc1 = nlp(\"Reddit partners with Patreon to help creators build commuties\")\n",
    "\n",
    "doc1.ents = [\n",
    "    Span(doc1, 0, 1, label=\"WEBSITE\"),\n",
    "    Span(doc1, 3, 4, label=\"WEBSITE\")\n",
    "]\n",
    "\n",
    "doc2 = nlp(\"PewDiePie smashes YouTube record\")\n",
    "doc2.ents = [\n",
    "    Span(doc2, 0, 1, label=\"PERSON\"),\n",
    "    Span(doc2, 3, 4, label=\"WEBSITE\")\n",
    "]\n",
    "\n",
    "doc3 = nlp(\"Reddit founder gave away two Metallica tickests to fans\")\n",
    "doc3.ents =[\n",
    "    Span(doc3, 0, 1, label=\"WEBSITE\")\n",
    "]"
   ]
  },
  {
   "cell_type": "code",
   "execution_count": 3,
   "id": "e3775f27",
   "metadata": {},
   "outputs": [
    {
     "data": {
      "text/plain": [
       "(Reddit,)"
      ]
     },
     "execution_count": 3,
     "metadata": {},
     "output_type": "execute_result"
    }
   ],
   "source": [
    "doc3.ents"
   ]
  }
 ],
 "metadata": {
  "kernelspec": {
   "display_name": "Python 3 (ipykernel)",
   "language": "python",
   "name": "python3"
  },
  "language_info": {
   "codemirror_mode": {
    "name": "ipython",
    "version": 3
   },
   "file_extension": ".py",
   "mimetype": "text/x-python",
   "name": "python",
   "nbconvert_exporter": "python",
   "pygments_lexer": "ipython3",
   "version": "3.9.7"
  }
 },
 "nbformat": 4,
 "nbformat_minor": 5
}
