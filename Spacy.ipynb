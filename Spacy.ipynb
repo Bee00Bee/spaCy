{
 "cells": [
  {
   "cell_type": "code",
   "execution_count": null,
   "id": "b6c65d16",
   "metadata": {},
   "outputs": [],
   "source": [
    "import spacy\n",
    "\n",
    "from scispacy.abbreviation import AbbreviationDetector\n",
    "\n",
    "nlp = spacy.load(\"en_core_sci_md\")\n",
    "\n",
    "nlp.add_pipe(\"abbreviation_detector\")\n",
    "\n",
    "text = \"Spinal and bulbar muscular atrophy (SBMA) is an \\\n",
    "           inherited motor neuron disease caused by the expansion \\\n",
    "           of a polyglutamine tract within the androgen receptor (AR). \\\n",
    "           SBMA can be caused by this easily.\"\n",
    "\n",
    "doc = nlp(text)\n",
    "\n",
    "print(\"Abbreviation\", \"\\t\", \"Definition\")\n",
    "for abrv in doc._.abbreviations:\n",
    "    print(f\"{abrv} \\t ({abrv.start},{abrv.end}) {abrv._.long_form}\")"
   ]
  },
  {
   "cell_type": "markdown",
   "id": "7b186ad7",
   "metadata": {},
   "source": [
    "The entity linker is a knowledge base linker. There are 5 supported linkers which are:\n",
    "\n",
    "* umls: links to Unified Medical Language System. This has around ~3M concepts\n",
    "* mesh: links to ~30K entities. MeSH is derrived from MeSH iteself. The entities are used for indexing in Pubmed.\n",
    "* rxnorm: Links to the RxNorm ontology. RxNorm contains ~100K concepts.\n",
    "* go: links to the Gene Ontology which has ~67k concepts.\n",
    "* hpo: Links to the Human Phenotype Ontology. The HPO contains ~16K concepts on phenotypic abnormalities encountered in human disease. "
   ]
  },
  {
   "cell_type": "code",
   "execution_count": null,
   "id": "47265117",
   "metadata": {},
   "outputs": [],
   "source": [
    "from scispacy.linking import EntityLinker"
   ]
  },
  {
   "cell_type": "code",
   "execution_count": null,
   "id": "25538a05",
   "metadata": {},
   "outputs": [],
   "source": [
    "import spacy\n",
    "nlp.add_pipe(\"scispacy_linker\", config={\"resolve_abbreviations\": True, \"linker_name\":\"mesh\"})"
   ]
  },
  {
   "cell_type": "code",
   "execution_count": null,
   "id": "32515809",
   "metadata": {},
   "outputs": [],
   "source": [
    "import spacy\n",
    "from scispacy.linking import EntityLinker\n",
    "\n",
    "nlp2 = spacy.load(\"en_core_sci_md\")\n",
    "nlp2.add_pipe(\"scispacy_linker\", config={\"resolve_abbreviations\": True, \"linker_name\":\"umls\"})"
   ]
  },
  {
   "cell_type": "code",
   "execution_count": null,
   "id": "9dfa3075",
   "metadata": {},
   "outputs": [],
   "source": [
    "text = [\"Some types of polyps can change into cancer over time (usually many years),but not all polyps become cancer. If dysplasia is seen in the polyp after it's removed. Dysplasia is another pre-cancerous condition.It means there's an area in a polyp or in the lining of the colonor rectum where the cells look abnormal,but they haven't become cancer.\"]\n",
    "doc = nlp(text[0])"
   ]
  },
  {
   "cell_type": "code",
   "execution_count": null,
   "id": "69f78334",
   "metadata": {},
   "outputs": [],
   "source": [
    "entity = doc.ents[1]"
   ]
  },
  {
   "cell_type": "code",
   "execution_count": null,
   "id": "8ccb62aa",
   "metadata": {},
   "outputs": [],
   "source": [
    "print(\"Name: \", entity)"
   ]
  },
  {
   "cell_type": "code",
   "execution_count": null,
   "id": "55ec01b7",
   "metadata": {},
   "outputs": [],
   "source": [
    "linker = nlp.get_pipe(\"scispacy_linker\")"
   ]
  },
  {
   "cell_type": "code",
   "execution_count": null,
   "id": "7a24d68b",
   "metadata": {},
   "outputs": [],
   "source": [
    "for umls_ent in entity._.kb_ents:\n",
    "    print(linker.kb.cui_to_entity[umls_ent[0]])"
   ]
  },
  {
   "cell_type": "code",
   "execution_count": null,
   "id": "40271e9a",
   "metadata": {},
   "outputs": [],
   "source": [
    "entity._.kb_ents"
   ]
  },
  {
   "cell_type": "code",
   "execution_count": 4,
   "id": "cb9d7213",
   "metadata": {},
   "outputs": [],
   "source": [
    "import spacy\n",
    "from spacy import displacy\n",
    "import pandas as pd\n",
    "\n",
    "from scispacy.umls_linking import UmlsEntityLinker\n",
    "from scispacy.abbreviation import AbbreviationDetector"
   ]
  },
  {
   "cell_type": "code",
   "execution_count": 8,
   "id": "829f0838",
   "metadata": {},
   "outputs": [],
   "source": [
    "SPACY_MODEL_NAMES = [\"en_core_sci_sm\", \"en_core_sci_md\", \"en_core_sci_lg\", \"en_core_sci_scibert\"]\n",
    "NER_MODEL_NAMES = [\"en_ner_craft_md\", \"en_ner_jnlpba_md\", \"en_ner_bc5cdr_md\", \"en_ner_bionlp13cg_md\"]\n",
    "DEFAULT_TEXT = \"Spinal and bulbar muscular atrophy (SBMA) is an inherited motor neuron disease caused by the expansion of a polyglutamine tract within the androgen receptor (AR). SBMA can be caused by this easily.\""
   ]
  },
  {
   "cell_type": "code",
   "execution_count": 5,
   "id": "03d9e768",
   "metadata": {},
   "outputs": [],
   "source": [
    "def load_model(name):\n",
    "\n",
    "    nlp = spacy.load(name)\n",
    "    # Add abbreviation detector\n",
    "    abbreviation_pipe = AbbreviationDetector(nlp)\n",
    "    nlp.add_pipe(\"abbreviation_detector\")\n",
    "    return nlp\n",
    "\n",
    "def process_text(model_name, text):\n",
    "    nlp = load_model(model_name)\n",
    "    return nlp(text)\n",
    "\n",
    "\n",
    "def load_linker():\n",
    "    linker = UmlsEntityLinker(resolve_abbreviations=True)\n",
    "    return linker\n"
   ]
  },
  {
   "cell_type": "code",
   "execution_count": 9,
   "id": "3cb83aca",
   "metadata": {},
   "outputs": [
    {
     "name": "stdout",
     "output_type": "stream",
     "text": [
      "Choose the spacy model:\n",
      "\n",
      "4\n",
      "\n",
      "This spacy model is chosen:  en_core_sci_scibert\n",
      "\n",
      "Choose the NER model:\n",
      "\n",
      "4\n",
      "This NER model is chosen:  en_ner_bionlp13cg_md\n"
     ]
    }
   ],
   "source": [
    "print(\"Choose the spacy model:\\n\")\n",
    "i = int(input())\n",
    "spacy_model = SPACY_MODEL_NAMES[i-1]\n",
    "print(\"\\nThis spacy model is chosen: \", spacy_model)\n",
    "print(\"\\nChoose the NER model:\\n\")\n",
    "j = int(input())\n",
    "ner_model = NER_MODEL_NAMES[j-1]\n",
    "print(\"This NER model is chosen: \", ner_model)"
   ]
  },
  {
   "cell_type": "code",
   "execution_count": 10,
   "id": "02b76198",
   "metadata": {},
   "outputs": [
    {
     "name": "stderr",
     "output_type": "stream",
     "text": [
      "/home/mn/anaconda3/lib/python3.9/site-packages/torch/autocast_mode.py:141: UserWarning: User provided device_type of 'cuda', but CUDA is not available. Disabling\n",
      "  warnings.warn('User provided device_type of \\'cuda\\', but CUDA is not available. Disabling')\n"
     ]
    },
    {
     "data": {
      "text/html": [
       "<span class=\"tex2jax_ignore\"><div class=\"entities\" style=\"line-height: 2.5; direction: ltr\">\n",
       "<mark class=\"entity\" style=\"background: #ddd; padding: 0.45em 0.6em; margin: 0 0.25em; line-height: 1; border-radius: 0.35em;\">\n",
       "    Spinal\n",
       "    <span style=\"font-size: 0.8em; font-weight: bold; line-height: 1; border-radius: 0.35em; vertical-align: middle; margin-left: 0.5rem\">ENTITY</span>\n",
       "</mark>\n",
       " and \n",
       "<mark class=\"entity\" style=\"background: #ddd; padding: 0.45em 0.6em; margin: 0 0.25em; line-height: 1; border-radius: 0.35em;\">\n",
       "    bulbar muscular atrophy\n",
       "    <span style=\"font-size: 0.8em; font-weight: bold; line-height: 1; border-radius: 0.35em; vertical-align: middle; margin-left: 0.5rem\">ENTITY</span>\n",
       "</mark>\n",
       " (\n",
       "<mark class=\"entity\" style=\"background: #ddd; padding: 0.45em 0.6em; margin: 0 0.25em; line-height: 1; border-radius: 0.35em;\">\n",
       "    SBMA\n",
       "    <span style=\"font-size: 0.8em; font-weight: bold; line-height: 1; border-radius: 0.35em; vertical-align: middle; margin-left: 0.5rem\">ENTITY</span>\n",
       "</mark>\n",
       ") is an \n",
       "<mark class=\"entity\" style=\"background: #ddd; padding: 0.45em 0.6em; margin: 0 0.25em; line-height: 1; border-radius: 0.35em;\">\n",
       "    inherited\n",
       "    <span style=\"font-size: 0.8em; font-weight: bold; line-height: 1; border-radius: 0.35em; vertical-align: middle; margin-left: 0.5rem\">ENTITY</span>\n",
       "</mark>\n",
       " \n",
       "<mark class=\"entity\" style=\"background: #ddd; padding: 0.45em 0.6em; margin: 0 0.25em; line-height: 1; border-radius: 0.35em;\">\n",
       "    motor neuron disease\n",
       "    <span style=\"font-size: 0.8em; font-weight: bold; line-height: 1; border-radius: 0.35em; vertical-align: middle; margin-left: 0.5rem\">ENTITY</span>\n",
       "</mark>\n",
       " caused by the \n",
       "<mark class=\"entity\" style=\"background: #ddd; padding: 0.45em 0.6em; margin: 0 0.25em; line-height: 1; border-radius: 0.35em;\">\n",
       "    expansion\n",
       "    <span style=\"font-size: 0.8em; font-weight: bold; line-height: 1; border-radius: 0.35em; vertical-align: middle; margin-left: 0.5rem\">ENTITY</span>\n",
       "</mark>\n",
       " of a \n",
       "<mark class=\"entity\" style=\"background: #ddd; padding: 0.45em 0.6em; margin: 0 0.25em; line-height: 1; border-radius: 0.35em;\">\n",
       "    polyglutamine tract\n",
       "    <span style=\"font-size: 0.8em; font-weight: bold; line-height: 1; border-radius: 0.35em; vertical-align: middle; margin-left: 0.5rem\">ENTITY</span>\n",
       "</mark>\n",
       " within the \n",
       "<mark class=\"entity\" style=\"background: #ddd; padding: 0.45em 0.6em; margin: 0 0.25em; line-height: 1; border-radius: 0.35em;\">\n",
       "    androgen receptor\n",
       "    <span style=\"font-size: 0.8em; font-weight: bold; line-height: 1; border-radius: 0.35em; vertical-align: middle; margin-left: 0.5rem\">ENTITY</span>\n",
       "</mark>\n",
       " (\n",
       "<mark class=\"entity\" style=\"background: #ddd; padding: 0.45em 0.6em; margin: 0 0.25em; line-height: 1; border-radius: 0.35em;\">\n",
       "    AR\n",
       "    <span style=\"font-size: 0.8em; font-weight: bold; line-height: 1; border-radius: 0.35em; vertical-align: middle; margin-left: 0.5rem\">ENTITY</span>\n",
       "</mark>\n",
       "). \n",
       "<mark class=\"entity\" style=\"background: #ddd; padding: 0.45em 0.6em; margin: 0 0.25em; line-height: 1; border-radius: 0.35em;\">\n",
       "    SBMA\n",
       "    <span style=\"font-size: 0.8em; font-weight: bold; line-height: 1; border-radius: 0.35em; vertical-align: middle; margin-left: 0.5rem\">ENTITY</span>\n",
       "</mark>\n",
       " can be caused by this easily.</div></span>"
      ],
      "text/plain": [
       "<IPython.core.display.HTML object>"
      ]
     },
     "metadata": {},
     "output_type": "display_data"
    }
   ],
   "source": [
    "doc = process_text(spacy_model,DEFAULT_TEXT)\n",
    "displacy.render(doc, style=\"ent\", options={\"distance\": 50})"
   ]
  },
  {
   "cell_type": "code",
   "execution_count": 11,
   "id": "425afd9a",
   "metadata": {},
   "outputs": [
    {
     "data": {
      "text/html": [
       "<span class=\"tex2jax_ignore\"><div class=\"entities\" style=\"line-height: 2.5; direction: ltr\">Spinal and \n",
       "<mark class=\"entity\" style=\"background: #ddd; padding: 0.45em 0.6em; margin: 0 0.25em; line-height: 1; border-radius: 0.35em;\">\n",
       "    bulbar muscular\n",
       "    <span style=\"font-size: 0.8em; font-weight: bold; line-height: 1; border-radius: 0.35em; vertical-align: middle; margin-left: 0.5rem\">PATHOLOGICAL_FORMATION</span>\n",
       "</mark>\n",
       " atrophy (SBMA) is an inherited motor \n",
       "<mark class=\"entity\" style=\"background: #ddd; padding: 0.45em 0.6em; margin: 0 0.25em; line-height: 1; border-radius: 0.35em;\">\n",
       "    neuron\n",
       "    <span style=\"font-size: 0.8em; font-weight: bold; line-height: 1; border-radius: 0.35em; vertical-align: middle; margin-left: 0.5rem\">CELL</span>\n",
       "</mark>\n",
       " disease caused by the expansion of a polyglutamine tract within the \n",
       "<mark class=\"entity\" style=\"background: #ddd; padding: 0.45em 0.6em; margin: 0 0.25em; line-height: 1; border-radius: 0.35em;\">\n",
       "    androgen receptor\n",
       "    <span style=\"font-size: 0.8em; font-weight: bold; line-height: 1; border-radius: 0.35em; vertical-align: middle; margin-left: 0.5rem\">GENE_OR_GENE_PRODUCT</span>\n",
       "</mark>\n",
       " (\n",
       "<mark class=\"entity\" style=\"background: #ddd; padding: 0.45em 0.6em; margin: 0 0.25em; line-height: 1; border-radius: 0.35em;\">\n",
       "    AR\n",
       "    <span style=\"font-size: 0.8em; font-weight: bold; line-height: 1; border-radius: 0.35em; vertical-align: middle; margin-left: 0.5rem\">GENE_OR_GENE_PRODUCT</span>\n",
       "</mark>\n",
       "). SBMA can be caused by this easily.</div></span>"
      ],
      "text/plain": [
       "<IPython.core.display.HTML object>"
      ]
     },
     "metadata": {},
     "output_type": "display_data"
    }
   ],
   "source": [
    "ner_doc = process_text(ner_model, DEFAULT_TEXT)\n",
    "displacy.render(ner_doc, style=\"ent\", options={\"distance\": 50})"
   ]
  },
  {
   "cell_type": "code",
   "execution_count": null,
   "id": "5a697c19",
   "metadata": {},
   "outputs": [],
   "source": [
    "linker = load_linker()\n",
    "\n",
    "threshold = 0.0\n",
    "linker.threshold = threshold"
   ]
  },
  {
   "cell_type": "code",
   "execution_count": null,
   "id": "cd04d814",
   "metadata": {},
   "outputs": [],
   "source": [
    "data = []\n",
    "for ent in linker(doc).ents:\n",
    "    for ent_id, score in ent._.umls_ents:\n",
    "\n",
    "        kb_entity = linker.umls.cui_to_entity[ent_id]\n",
    "        tuis = \",\".join(kb_entity.types)\n",
    "        data.append([\n",
    "            ent.text,\n",
    "            kb_entity.canonical_name,\n",
    "            ent_id,\n",
    "            tuis,\n",
    "            score,\n",
    "            ent.start,\n",
    "            ent.end,\n",
    "        ])\n"
   ]
  },
  {
   "cell_type": "code",
   "execution_count": null,
   "id": "cfc7710d",
   "metadata": {},
   "outputs": [],
   "source": [
    "attrs = [\"text\", \"Canonical Name\", \"Concept ID\", \"TUI(s)\", \"Score\", \"start\", \"end\"]\n",
    "df = pd.DataFrame(data, columns=attrs)"
   ]
  },
  {
   "cell_type": "code",
   "execution_count": 8,
   "id": "d8db7d12",
   "metadata": {},
   "outputs": [
    {
     "data": {
      "text/html": [
       "<span class=\"tex2jax_ignore\"><div class=\"entities\" style=\"line-height: 2.5; direction: ltr\">Spinal and \n",
       "<mark class=\"entity\" style=\"background: #ddd; padding: 0.45em 0.6em; margin: 0 0.25em; line-height: 1; border-radius: 0.35em;\">\n",
       "    bulbar muscular\n",
       "    <span style=\"font-size: 0.8em; font-weight: bold; line-height: 1; border-radius: 0.35em; vertical-align: middle; margin-left: 0.5rem\">PATHOLOGICAL_FORMATION</span>\n",
       "</mark>\n",
       " atrophy (SBMA) is an inherited motor \n",
       "<mark class=\"entity\" style=\"background: #ddd; padding: 0.45em 0.6em; margin: 0 0.25em; line-height: 1; border-radius: 0.35em;\">\n",
       "    neuron\n",
       "    <span style=\"font-size: 0.8em; font-weight: bold; line-height: 1; border-radius: 0.35em; vertical-align: middle; margin-left: 0.5rem\">CELL</span>\n",
       "</mark>\n",
       " disease caused by the expansion of a polyglutamine tract within the \n",
       "<mark class=\"entity\" style=\"background: #ddd; padding: 0.45em 0.6em; margin: 0 0.25em; line-height: 1; border-radius: 0.35em;\">\n",
       "    androgen receptor\n",
       "    <span style=\"font-size: 0.8em; font-weight: bold; line-height: 1; border-radius: 0.35em; vertical-align: middle; margin-left: 0.5rem\">GENE_OR_GENE_PRODUCT</span>\n",
       "</mark>\n",
       " (\n",
       "<mark class=\"entity\" style=\"background: #ddd; padding: 0.45em 0.6em; margin: 0 0.25em; line-height: 1; border-radius: 0.35em;\">\n",
       "    AR\n",
       "    <span style=\"font-size: 0.8em; font-weight: bold; line-height: 1; border-radius: 0.35em; vertical-align: middle; margin-left: 0.5rem\">GENE_OR_GENE_PRODUCT</span>\n",
       "</mark>\n",
       "). SBMA can be caused by this easily.</div></span>"
      ],
      "text/plain": [
       "<IPython.core.display.HTML object>"
      ]
     },
     "metadata": {},
     "output_type": "display_data"
    }
   ],
   "source": [
    "from spacy import displacy \n",
    "\n",
    "\n",
    "displacy.render(ner_doc, style=\"ent\", options={\"distance\": 50})"
   ]
  },
  {
   "cell_type": "code",
   "execution_count": null,
   "id": "fa3c1b27",
   "metadata": {},
   "outputs": [],
   "source": []
  }
 ],
 "metadata": {
  "kernelspec": {
   "display_name": "Python 3 (ipykernel)",
   "language": "python",
   "name": "python3"
  },
  "language_info": {
   "codemirror_mode": {
    "name": "ipython",
    "version": 3
   },
   "file_extension": ".py",
   "mimetype": "text/x-python",
   "name": "python",
   "nbconvert_exporter": "python",
   "pygments_lexer": "ipython3",
   "version": "3.9.7"
  }
 },
 "nbformat": 4,
 "nbformat_minor": 5
}
